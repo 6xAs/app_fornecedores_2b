{
 "cells": [
  {
   "cell_type": "markdown",
   "id": "08ab2715",
   "metadata": {},
   "source": [
    "## Notebook de Produtos"
   ]
  },
  {
   "cell_type": "markdown",
   "id": "26b66de3",
   "metadata": {},
   "source": [
    "### Importação das bibliotecas"
   ]
  },
  {
   "cell_type": "code",
   "execution_count": 1,
   "id": "8a7b064c",
   "metadata": {},
   "outputs": [],
   "source": [
    "import pandas as pd"
   ]
  },
  {
   "cell_type": "markdown",
   "id": "59f307dd",
   "metadata": {},
   "source": [
    "## Criando um dataframe com os dados do produto"
   ]
  },
  {
   "cell_type": "code",
   "execution_count": 3,
   "id": "6c4e53fb",
   "metadata": {},
   "outputs": [
    {
     "data": {
      "text/html": [
       "<div>\n",
       "<style scoped>\n",
       "    .dataframe tbody tr th:only-of-type {\n",
       "        vertical-align: middle;\n",
       "    }\n",
       "\n",
       "    .dataframe tbody tr th {\n",
       "        vertical-align: top;\n",
       "    }\n",
       "\n",
       "    .dataframe thead th {\n",
       "        text-align: right;\n",
       "    }\n",
       "</style>\n",
       "<table border=\"1\" class=\"dataframe\">\n",
       "  <thead>\n",
       "    <tr style=\"text-align: right;\">\n",
       "      <th></th>\n",
       "      <th>Categoria</th>\n",
       "      <th>Nome do Produto</th>\n",
       "      <th>Descrição</th>\n",
       "      <th>Preço Base (R$)</th>\n",
       "      <th>Imposto de Importação (%)</th>\n",
       "      <th>ICMS (%)</th>\n",
       "      <th>IPI (%)</th>\n",
       "      <th>PIS (%)</th>\n",
       "      <th>COFINS (%)</th>\n",
       "      <th>Total de Impostos (%)</th>\n",
       "      <th>Preço Final c/ Impostos (R$)</th>\n",
       "    </tr>\n",
       "  </thead>\n",
       "  <tbody>\n",
       "    <tr>\n",
       "      <th>0</th>\n",
       "      <td>Teclado</td>\n",
       "      <td>Logitech Teclado Modelo 641</td>\n",
       "      <td>Teclado da marca Logitech, modelo avançado com...</td>\n",
       "      <td>4494.62</td>\n",
       "      <td>37.82</td>\n",
       "      <td>14.29</td>\n",
       "      <td>7.74</td>\n",
       "      <td>1.02</td>\n",
       "      <td>5.24</td>\n",
       "      <td>66.11</td>\n",
       "      <td>746.60</td>\n",
       "    </tr>\n",
       "    <tr>\n",
       "      <th>1</th>\n",
       "      <td>Mouse</td>\n",
       "      <td>Razer Mouse Modelo 174</td>\n",
       "      <td>Mouse da marca Razer, modelo avançado com alta...</td>\n",
       "      <td>2857.35</td>\n",
       "      <td>38.19</td>\n",
       "      <td>7.85</td>\n",
       "      <td>8.76</td>\n",
       "      <td>1.33</td>\n",
       "      <td>3.25</td>\n",
       "      <td>59.38</td>\n",
       "      <td>455.40</td>\n",
       "    </tr>\n",
       "    <tr>\n",
       "      <th>2</th>\n",
       "      <td>Notebook</td>\n",
       "      <td>Dell Notebook Modelo 985</td>\n",
       "      <td>Notebook da marca Dell, modelo avançado com al...</td>\n",
       "      <td>2705.91</td>\n",
       "      <td>32.02</td>\n",
       "      <td>12.04</td>\n",
       "      <td>1.15</td>\n",
       "      <td>0.76</td>\n",
       "      <td>3.23</td>\n",
       "      <td>49.20</td>\n",
       "      <td>403.72</td>\n",
       "    </tr>\n",
       "    <tr>\n",
       "      <th>3</th>\n",
       "      <td>Placa-mãe</td>\n",
       "      <td>Gigabyte Placa-mãe Modelo 777</td>\n",
       "      <td>Placa-mãe da marca Gigabyte, modelo avançado c...</td>\n",
       "      <td>3012.83</td>\n",
       "      <td>30.34</td>\n",
       "      <td>8.57</td>\n",
       "      <td>2.01</td>\n",
       "      <td>1.38</td>\n",
       "      <td>5.07</td>\n",
       "      <td>47.37</td>\n",
       "      <td>444.00</td>\n",
       "    </tr>\n",
       "    <tr>\n",
       "      <th>4</th>\n",
       "      <td>Suporte Monitor</td>\n",
       "      <td>Furitec Suporte Monitor Modelo 564</td>\n",
       "      <td>Suporte Monitor da marca Furitec, modelo avanç...</td>\n",
       "      <td>2503.94</td>\n",
       "      <td>11.74</td>\n",
       "      <td>10.62</td>\n",
       "      <td>3.94</td>\n",
       "      <td>1.29</td>\n",
       "      <td>7.12</td>\n",
       "      <td>34.71</td>\n",
       "      <td>337.31</td>\n",
       "    </tr>\n",
       "  </tbody>\n",
       "</table>\n",
       "</div>"
      ],
      "text/plain": [
       "         Categoria                     Nome do Produto  \\\n",
       "0          Teclado         Logitech Teclado Modelo 641   \n",
       "1            Mouse              Razer Mouse Modelo 174   \n",
       "2         Notebook            Dell Notebook Modelo 985   \n",
       "3        Placa-mãe       Gigabyte Placa-mãe Modelo 777   \n",
       "4  Suporte Monitor  Furitec Suporte Monitor Modelo 564   \n",
       "\n",
       "                                           Descrição  Preço Base (R$)  \\\n",
       "0  Teclado da marca Logitech, modelo avançado com...          4494.62   \n",
       "1  Mouse da marca Razer, modelo avançado com alta...          2857.35   \n",
       "2  Notebook da marca Dell, modelo avançado com al...          2705.91   \n",
       "3  Placa-mãe da marca Gigabyte, modelo avançado c...          3012.83   \n",
       "4  Suporte Monitor da marca Furitec, modelo avanç...          2503.94   \n",
       "\n",
       "   Imposto de Importação (%)  ICMS (%)  IPI (%)  PIS (%)  COFINS (%)  \\\n",
       "0                      37.82     14.29     7.74     1.02        5.24   \n",
       "1                      38.19      7.85     8.76     1.33        3.25   \n",
       "2                      32.02     12.04     1.15     0.76        3.23   \n",
       "3                      30.34      8.57     2.01     1.38        5.07   \n",
       "4                      11.74     10.62     3.94     1.29        7.12   \n",
       "\n",
       "   Total de Impostos (%)  Preço Final c/ Impostos (R$)  \n",
       "0                  66.11                        746.60  \n",
       "1                  59.38                        455.40  \n",
       "2                  49.20                        403.72  \n",
       "3                  47.37                        444.00  \n",
       "4                  34.71                        337.31  "
      ]
     },
     "execution_count": 3,
     "metadata": {},
     "output_type": "execute_result"
    }
   ],
   "source": [
    "df_produtos = pd.read_csv('../database/produtos/produtos_completos.csv', sep=',')\n",
    "df_produtos.head()"
   ]
  }
 ],
 "metadata": {
  "kernelspec": {
   "display_name": ".venv",
   "language": "python",
   "name": "python3"
  },
  "language_info": {
   "codemirror_mode": {
    "name": "ipython",
    "version": 3
   },
   "file_extension": ".py",
   "mimetype": "text/x-python",
   "name": "python",
   "nbconvert_exporter": "python",
   "pygments_lexer": "ipython3",
   "version": "3.12.9"
  }
 },
 "nbformat": 4,
 "nbformat_minor": 5
}
